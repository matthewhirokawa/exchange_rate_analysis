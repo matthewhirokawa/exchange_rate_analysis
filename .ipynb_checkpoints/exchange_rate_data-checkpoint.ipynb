{
 "cells": [
  {
   "cell_type": "code",
   "execution_count": 54,
   "id": "a02601e6-a075-4d67-b5d3-e039518bbb87",
   "metadata": {},
   "outputs": [],
   "source": [
    "import pandas as pd\n",
    "import requests\n",
    "import datetime as dt\n",
    "import pandas_datareader.data as web\n"
   ]
  },
  {
   "cell_type": "code",
   "execution_count": 63,
   "id": "75f5a316-7d89-432f-b193-f1f46ed0ab24",
   "metadata": {},
   "outputs": [
    {
     "name": "stdout",
     "output_type": "stream",
     "text": [
      "            CAD_per_USD  CNY_per_USD  CNY_per_CAD\n",
      "DATE                                             \n",
      "2024-01-01       1.3423       7.1707     5.342099\n",
      "2024-02-01       1.3500       7.1935     5.328519\n",
      "2024-03-01       1.3536       7.2015     5.320257\n",
      "2024-04-01       1.3674       7.2374     5.292818\n",
      "2024-05-01       1.3667       7.2327     5.292090\n",
      "2024-06-01       1.3705       7.2547     5.293470\n",
      "2024-07-01       1.3714       7.2609     5.294517\n",
      "2024-08-01       1.3655       7.1475     5.234346\n",
      "2024-09-01       1.3546       7.0760     5.223682\n",
      "2024-10-01       1.3757       7.0881     5.152359\n",
      "2024-11-01       1.3973       7.2063     5.157303\n",
      "2024-12-01       1.4247       7.2807     5.110339\n",
      "2025-01-01       1.4389       7.2957     5.070332\n",
      "2025-02-01       1.4299       7.2734     5.086649\n",
      "2025-03-01       1.4356       7.2493     5.049666\n",
      "2025-04-01       1.3981       7.2968     5.219083\n",
      "2025-05-01       1.3867       7.2166     5.204154\n",
      "2025-06-01       1.3668       7.1804     5.253439\n"
     ]
    }
   ],
   "source": [
    "#Use St. Louis FRED free API to get exchange rates\n",
    "\n",
    "#gets monthly exchange rates \"EXCHUS\" = EXchange rate CHina US\n",
    "usd_cny_monthly_exchange_rate = web.DataReader(\"EXCHUS\", \"fred\", start=\"2024-01-01\")\n",
    "#print(usd_cny_monthly_exchange_rate)\n",
    "#usd_cny_monthly_exchange_rate.to_csv(\"usd_cny_monthly_exchange_rate\")\n",
    "\n",
    "usd_cad_monthly_exchange_rate = web.DataReader(\"EXCAUS\", \"fred\", start=\"2024-01-01\")\n",
    "#print(usd_cad_monthly_exchange_rate)\n",
    "\n",
    "#to get CAD to Yuan, divide exchagne rates of USD-CAD and USD-Yuan\n",
    "cad_cny_monthly_exchange_rate = pd.concat([usd_cad_monthly_exchange_rate, usd_cny_monthly_exchange_rate], axis=1).dropna()\n",
    "cad_cny_monthly_exchange_rate.columns = [\"CAD_per_USD\", \"CNY_per_USD\"]\n",
    "cad_cny_monthly_exchange_rate[\"CNY_per_CAD\"] = cad_cny_monthly_exchange_rate[\"CNY_per_USD\"] / cad_cny_monthly_exchange_rate[\"CAD_per_USD\"]\n",
    "#cad_cny_monthly_exchange_rate.drop(['CAD_per_USD', 'CNY_per_USD'], axis = 1, inplace = True)\n",
    "print(cad_cny_monthly_exchange_rate)\n",
    "\n",
    "\n",
    "#gets daily exchnage rates\n",
    "#usd_cny_d = web.DataReader(\"DEXCHUS\", \"fred\", start=\"2024-01-01\")\n",
    "#print(usd_cny_d)"
   ]
  },
  {
   "cell_type": "code",
   "execution_count": null,
   "id": "36311050-e3e1-48f0-89fc-eef4365734df",
   "metadata": {},
   "outputs": [],
   "source": []
  }
 ],
 "metadata": {
  "kernelspec": {
   "display_name": "Python [conda env:base] *",
   "language": "python",
   "name": "conda-base-py"
  },
  "language_info": {
   "codemirror_mode": {
    "name": "ipython",
    "version": 3
   },
   "file_extension": ".py",
   "mimetype": "text/x-python",
   "name": "python",
   "nbconvert_exporter": "python",
   "pygments_lexer": "ipython3",
   "version": "3.12.7"
  }
 },
 "nbformat": 4,
 "nbformat_minor": 5
}
