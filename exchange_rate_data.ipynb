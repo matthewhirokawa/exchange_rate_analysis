{
 "cells": [
  {
   "cell_type": "code",
   "execution_count": 40,
   "id": "a02601e6-a075-4d67-b5d3-e039518bbb87",
   "metadata": {},
   "outputs": [],
   "source": [
    "import pandas as pd\n",
    "import requests\n",
    "import datetime as dt\n",
    "import pandas_datareader.data as web"
   ]
  },
  {
   "cell_type": "code",
   "execution_count": 41,
   "id": "75f5a316-7d89-432f-b193-f1f46ed0ab24",
   "metadata": {},
   "outputs": [],
   "source": [
    "#Use St. Louis FRED free API to get exchange rates\n",
    "\n",
    "#gets monthly exchange rates \"EXCHUS\" = EXchange rate CHina US\n",
    "usd_cny_monthly_exchange_rate = web.DataReader(\"EXCHUS\", \"fred\", start=\"2024-01-01\")\n",
    "\n",
    "#USA-Canada\n",
    "usd_cad_monthly_exchange_rate = web.DataReader(\"EXCAUS\", \"fred\", start=\"2024-01-01\")\n",
    "\n",
    "#to get CAD to Yuan, divide exchagne rates of USD-CAD and USD-Yuan\n",
    "cad_cny_monthly_exchange_rate = pd.concat([usd_cad_monthly_exchange_rate, usd_cny_monthly_exchange_rate], axis=1).dropna()\n",
    "cad_cny_monthly_exchange_rate.columns = [\"CAD_per_USD\", \"CNY_per_USD\"]\n",
    "cad_cny_monthly_exchange_rate[\"CNY_per_CAD\"] = cad_cny_monthly_exchange_rate[\"CNY_per_USD\"] / cad_cny_monthly_exchange_rate[\"CAD_per_USD\"]\n",
    "cad_cny_monthly_exchange_rate.drop(['CAD_per_USD', 'CNY_per_USD'], axis = 1, inplace = True)\n",
    "\n",
    "#save with date and month\n",
    "usd_cny_monthly_exchange_rate = usd_cny_monthly_exchange_rate.reset_index()\n",
    "usd_cad_monthly_exchange_rate = usd_cad_monthly_exchange_rate.reset_index()\n",
    "cad_cny_monthly_exchange_rate = cad_cny_monthly_exchange_rate.reset_index()\n",
    "usd_cny_monthly_exchange_rate['Month'] = usd_cny_monthly_exchange_rate['DATE'].dt.to_period('M')\n",
    "usd_cad_monthly_exchange_rate['Month'] = usd_cad_monthly_exchange_rate['DATE'].dt.to_period('M')\n",
    "cad_cny_monthly_exchange_rate['Month'] = cad_cny_monthly_exchange_rate['DATE'].dt.to_period('M')\n",
    "usd_cny_monthly_exchange_rate.to_csv(\"usd_cny_monthly_exchange_rate.csv\", index = False)\n",
    "usd_cad_monthly_exchange_rate.to_csv(\"usd_cad_monthly_exchange_rate.csv\", index = False)\n",
    "cad_cny_monthly_exchange_rate.to_csv(\"cad_cny_monthly_exchange_rate.csv\", index = False)\n",
    "\n",
    "#get data for USA-China from start of 2021\n",
    "usd_cny_monthly_exchange_rate_2021 = web.DataReader(\"EXCHUS\", \"fred\", start=\"2021-01-01\")\n",
    "usd_cny_monthly_exchange_rate_2021 = usd_cny_monthly_exchange_rate_2021.reset_index()\n",
    "usd_cny_monthly_exchange_rate_2021['Month'] = usd_cny_monthly_exchange_rate_2021['DATE'].dt.to_period('M')\n",
    "usd_cny_monthly_exchange_rate_2021.to_csv(\"usd_cny_monthly_exchange_rate_2021.csv\", index = False)\n"
   ]
  },
  {
   "cell_type": "code",
   "execution_count": null,
   "id": "36311050-e3e1-48f0-89fc-eef4365734df",
   "metadata": {},
   "outputs": [],
   "source": []
  }
 ],
 "metadata": {
  "kernelspec": {
   "display_name": "Python [conda env:base] *",
   "language": "python",
   "name": "conda-base-py"
  },
  "language_info": {
   "codemirror_mode": {
    "name": "ipython",
    "version": 3
   },
   "file_extension": ".py",
   "mimetype": "text/x-python",
   "name": "python",
   "nbconvert_exporter": "python",
   "pygments_lexer": "ipython3",
   "version": "3.12.7"
  }
 },
 "nbformat": 4,
 "nbformat_minor": 5
}
