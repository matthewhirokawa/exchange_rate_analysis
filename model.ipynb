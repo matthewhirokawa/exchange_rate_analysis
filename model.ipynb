{
 "cells": [
  {
   "cell_type": "code",
   "execution_count": 64,
   "id": "207d21c6-e79a-4aab-8c03-0766d2c22a30",
   "metadata": {},
   "outputs": [],
   "source": [
    "import pandas as pd"
   ]
  },
  {
   "cell_type": "code",
   "execution_count": 65,
   "id": "3febdbfc-bab1-420a-b9ea-67520ecf0b77",
   "metadata": {},
   "outputs": [
    {
     "name": "stdout",
     "output_type": "stream",
     "text": [
      "<class 'str'>\n"
     ]
    },
    {
     "data": {
      "text/html": [
       "<div>\n",
       "<style scoped>\n",
       "    .dataframe tbody tr th:only-of-type {\n",
       "        vertical-align: middle;\n",
       "    }\n",
       "\n",
       "    .dataframe tbody tr th {\n",
       "        vertical-align: top;\n",
       "    }\n",
       "\n",
       "    .dataframe thead th {\n",
       "        text-align: right;\n",
       "    }\n",
       "</style>\n",
       "<table border=\"1\" class=\"dataframe\">\n",
       "  <thead>\n",
       "    <tr style=\"text-align: right;\">\n",
       "      <th></th>\n",
       "      <th>Month</th>\n",
       "      <th>Relation</th>\n",
       "      <th>Sentiment</th>\n",
       "    </tr>\n",
       "  </thead>\n",
       "  <tbody>\n",
       "    <tr>\n",
       "      <th>0</th>\n",
       "      <td>2021-01</td>\n",
       "      <td>USA-China</td>\n",
       "      <td>0.023501</td>\n",
       "    </tr>\n",
       "    <tr>\n",
       "      <th>1</th>\n",
       "      <td>2021-02</td>\n",
       "      <td>USA-China</td>\n",
       "      <td>0.020157</td>\n",
       "    </tr>\n",
       "    <tr>\n",
       "      <th>2</th>\n",
       "      <td>2021-03</td>\n",
       "      <td>USA-China</td>\n",
       "      <td>0.010724</td>\n",
       "    </tr>\n",
       "    <tr>\n",
       "      <th>3</th>\n",
       "      <td>2021-04</td>\n",
       "      <td>USA-China</td>\n",
       "      <td>0.014211</td>\n",
       "    </tr>\n",
       "    <tr>\n",
       "      <th>4</th>\n",
       "      <td>2021-05</td>\n",
       "      <td>USA-China</td>\n",
       "      <td>0.009114</td>\n",
       "    </tr>\n",
       "  </tbody>\n",
       "</table>\n",
       "</div>"
      ],
      "text/plain": [
       "     Month   Relation  Sentiment\n",
       "0  2021-01  USA-China   0.023501\n",
       "1  2021-02  USA-China   0.020157\n",
       "2  2021-03  USA-China   0.010724\n",
       "3  2021-04  USA-China   0.014211\n",
       "4  2021-05  USA-China   0.009114"
      ]
     },
     "execution_count": 65,
     "metadata": {},
     "output_type": "execute_result"
    }
   ],
   "source": [
    "monthly_sentiment_nltk = pd.read_csv('data/usa_china_extended_monthly_sentiment_nltk.csv')\n",
    "#monthly_sentiment_nltk['Month'] = pd.to_datetime(monthly_sentiment_nltk['Month']).dt.to_period('M')\n",
    "\n",
    "monthly_sentiment_textblob = pd.read_csv('data/usa_china_extended_monthly_sentiment_textblob.csv')\n",
    "#monthly_sentiment_textblob['Month'] = pd.to_datetime(monthly_sentiment_textblob['Month']).dt.to_period('M')\n",
    "print(type(monthly_sentiment_textblob['Month'][0]))\n",
    "monthly_sentiment_textblob.head()"
   ]
  },
  {
   "cell_type": "code",
   "execution_count": 66,
   "id": "a0b5b376-25ec-4da3-890b-54cf3ca15a0a",
   "metadata": {},
   "outputs": [
    {
     "name": "stdout",
     "output_type": "stream",
     "text": [
      "<class 'str'>\n"
     ]
    },
    {
     "data": {
      "text/html": [
       "<div>\n",
       "<style scoped>\n",
       "    .dataframe tbody tr th:only-of-type {\n",
       "        vertical-align: middle;\n",
       "    }\n",
       "\n",
       "    .dataframe tbody tr th {\n",
       "        vertical-align: top;\n",
       "    }\n",
       "\n",
       "    .dataframe thead th {\n",
       "        text-align: right;\n",
       "    }\n",
       "</style>\n",
       "<table border=\"1\" class=\"dataframe\">\n",
       "  <thead>\n",
       "    <tr style=\"text-align: right;\">\n",
       "      <th></th>\n",
       "      <th>DATE</th>\n",
       "      <th>EXCHUS</th>\n",
       "      <th>Month</th>\n",
       "    </tr>\n",
       "  </thead>\n",
       "  <tbody>\n",
       "    <tr>\n",
       "      <th>0</th>\n",
       "      <td>2021-01-01</td>\n",
       "      <td>6.4672</td>\n",
       "      <td>2021-01</td>\n",
       "    </tr>\n",
       "    <tr>\n",
       "      <th>1</th>\n",
       "      <td>2021-02-01</td>\n",
       "      <td>6.4601</td>\n",
       "      <td>2021-02</td>\n",
       "    </tr>\n",
       "    <tr>\n",
       "      <th>2</th>\n",
       "      <td>2021-03-01</td>\n",
       "      <td>6.5109</td>\n",
       "      <td>2021-03</td>\n",
       "    </tr>\n",
       "    <tr>\n",
       "      <th>3</th>\n",
       "      <td>2021-04-01</td>\n",
       "      <td>6.5186</td>\n",
       "      <td>2021-04</td>\n",
       "    </tr>\n",
       "    <tr>\n",
       "      <th>4</th>\n",
       "      <td>2021-05-01</td>\n",
       "      <td>6.4321</td>\n",
       "      <td>2021-05</td>\n",
       "    </tr>\n",
       "  </tbody>\n",
       "</table>\n",
       "</div>"
      ],
      "text/plain": [
       "         DATE  EXCHUS    Month\n",
       "0  2021-01-01  6.4672  2021-01\n",
       "1  2021-02-01  6.4601  2021-02\n",
       "2  2021-03-01  6.5109  2021-03\n",
       "3  2021-04-01  6.5186  2021-04\n",
       "4  2021-05-01  6.4321  2021-05"
      ]
     },
     "execution_count": 66,
     "metadata": {},
     "output_type": "execute_result"
    }
   ],
   "source": [
    "usd_cny_exchange_rate = pd.read_csv('data/usd_cny_monthly_exchange_rate_2021.csv')\n",
    "#usd_cny_exchange_rate['Month'] = pd.to_datetime(usd_cny_exchange_rate['Month']).dt.to_period('M')\n",
    "print(type(usd_cny_exchange_rate['Month'][0]))\n",
    "usd_cny_exchange_rate.head()"
   ]
  },
  {
   "cell_type": "code",
   "execution_count": 73,
   "id": "031a0661-125f-4a2f-9ce9-720741ca4625",
   "metadata": {},
   "outputs": [
    {
     "data": {
      "text/html": [
       "<div>\n",
       "<style scoped>\n",
       "    .dataframe tbody tr th:only-of-type {\n",
       "        vertical-align: middle;\n",
       "    }\n",
       "\n",
       "    .dataframe tbody tr th {\n",
       "        vertical-align: top;\n",
       "    }\n",
       "\n",
       "    .dataframe thead th {\n",
       "        text-align: right;\n",
       "    }\n",
       "</style>\n",
       "<table border=\"1\" class=\"dataframe\">\n",
       "  <thead>\n",
       "    <tr style=\"text-align: right;\">\n",
       "      <th></th>\n",
       "      <th>Month</th>\n",
       "      <th>Relation</th>\n",
       "      <th>Sentiment</th>\n",
       "      <th>EXCHUS</th>\n",
       "    </tr>\n",
       "  </thead>\n",
       "  <tbody>\n",
       "    <tr>\n",
       "      <th>0</th>\n",
       "      <td>2021-01</td>\n",
       "      <td>USA-China</td>\n",
       "      <td>0.023501</td>\n",
       "      <td>6.4672</td>\n",
       "    </tr>\n",
       "    <tr>\n",
       "      <th>1</th>\n",
       "      <td>2021-02</td>\n",
       "      <td>USA-China</td>\n",
       "      <td>0.020157</td>\n",
       "      <td>6.4601</td>\n",
       "    </tr>\n",
       "    <tr>\n",
       "      <th>2</th>\n",
       "      <td>2021-03</td>\n",
       "      <td>USA-China</td>\n",
       "      <td>0.010724</td>\n",
       "      <td>6.5109</td>\n",
       "    </tr>\n",
       "    <tr>\n",
       "      <th>3</th>\n",
       "      <td>2021-04</td>\n",
       "      <td>USA-China</td>\n",
       "      <td>0.014211</td>\n",
       "      <td>6.5186</td>\n",
       "    </tr>\n",
       "    <tr>\n",
       "      <th>4</th>\n",
       "      <td>2021-05</td>\n",
       "      <td>USA-China</td>\n",
       "      <td>0.009114</td>\n",
       "      <td>6.4321</td>\n",
       "    </tr>\n",
       "  </tbody>\n",
       "</table>\n",
       "</div>"
      ],
      "text/plain": [
       "     Month   Relation  Sentiment  EXCHUS\n",
       "0  2021-01  USA-China   0.023501  6.4672\n",
       "1  2021-02  USA-China   0.020157  6.4601\n",
       "2  2021-03  USA-China   0.010724  6.5109\n",
       "3  2021-04  USA-China   0.014211  6.5186\n",
       "4  2021-05  USA-China   0.009114  6.4321"
      ]
     },
     "execution_count": 73,
     "metadata": {},
     "output_type": "execute_result"
    }
   ],
   "source": [
    "#combine dataframes, drop date keep month\n",
    "combined_df_textblob = pd.merge(monthly_sentiment_textblob, usd_cny_exchange_rate, on = 'Month', how = 'inner')\n",
    "combined_df_textblob = combined_df_textblob.drop(columns=['DATE'])\n",
    "combined_df_textblob.head()"
   ]
  },
  {
   "cell_type": "code",
   "execution_count": null,
   "id": "cf66e819-6c04-42a2-9cb3-973e9b39db74",
   "metadata": {},
   "outputs": [],
   "source": []
  }
 ],
 "metadata": {
  "kernelspec": {
   "display_name": "Python [conda env:base] *",
   "language": "python",
   "name": "conda-base-py"
  },
  "language_info": {
   "codemirror_mode": {
    "name": "ipython",
    "version": 3
   },
   "file_extension": ".py",
   "mimetype": "text/x-python",
   "name": "python",
   "nbconvert_exporter": "python",
   "pygments_lexer": "ipython3",
   "version": "3.12.7"
  }
 },
 "nbformat": 4,
 "nbformat_minor": 5
}
