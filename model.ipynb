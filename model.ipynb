{
 "cells": [
  {
   "cell_type": "code",
   "execution_count": 28,
   "id": "207d21c6-e79a-4aab-8c03-0766d2c22a30",
   "metadata": {},
   "outputs": [],
   "source": [
    "import pandas as pd\n",
    "from sklearn.linear_model import LinearRegression\n",
    "from sklearn.model_selection import train_test_split\n",
    "import statsmodels.api as sm\n",
    "from sklearn.metrics import mean_squared_error, r2_score"
   ]
  },
  {
   "cell_type": "code",
   "execution_count": 29,
   "id": "3febdbfc-bab1-420a-b9ea-67520ecf0b77",
   "metadata": {},
   "outputs": [
    {
     "name": "stdout",
     "output_type": "stream",
     "text": [
      "<class 'str'>\n"
     ]
    },
    {
     "data": {
      "text/html": [
       "<div>\n",
       "<style scoped>\n",
       "    .dataframe tbody tr th:only-of-type {\n",
       "        vertical-align: middle;\n",
       "    }\n",
       "\n",
       "    .dataframe tbody tr th {\n",
       "        vertical-align: top;\n",
       "    }\n",
       "\n",
       "    .dataframe thead th {\n",
       "        text-align: right;\n",
       "    }\n",
       "</style>\n",
       "<table border=\"1\" class=\"dataframe\">\n",
       "  <thead>\n",
       "    <tr style=\"text-align: right;\">\n",
       "      <th></th>\n",
       "      <th>Month</th>\n",
       "      <th>Relation</th>\n",
       "      <th>Sentiment</th>\n",
       "    </tr>\n",
       "  </thead>\n",
       "  <tbody>\n",
       "    <tr>\n",
       "      <th>0</th>\n",
       "      <td>2021-01</td>\n",
       "      <td>USA-China</td>\n",
       "      <td>0.023501</td>\n",
       "    </tr>\n",
       "    <tr>\n",
       "      <th>1</th>\n",
       "      <td>2021-02</td>\n",
       "      <td>USA-China</td>\n",
       "      <td>0.020157</td>\n",
       "    </tr>\n",
       "    <tr>\n",
       "      <th>2</th>\n",
       "      <td>2021-03</td>\n",
       "      <td>USA-China</td>\n",
       "      <td>0.010724</td>\n",
       "    </tr>\n",
       "    <tr>\n",
       "      <th>3</th>\n",
       "      <td>2021-04</td>\n",
       "      <td>USA-China</td>\n",
       "      <td>0.014211</td>\n",
       "    </tr>\n",
       "    <tr>\n",
       "      <th>4</th>\n",
       "      <td>2021-05</td>\n",
       "      <td>USA-China</td>\n",
       "      <td>0.009114</td>\n",
       "    </tr>\n",
       "  </tbody>\n",
       "</table>\n",
       "</div>"
      ],
      "text/plain": [
       "     Month   Relation  Sentiment\n",
       "0  2021-01  USA-China   0.023501\n",
       "1  2021-02  USA-China   0.020157\n",
       "2  2021-03  USA-China   0.010724\n",
       "3  2021-04  USA-China   0.014211\n",
       "4  2021-05  USA-China   0.009114"
      ]
     },
     "execution_count": 29,
     "metadata": {},
     "output_type": "execute_result"
    }
   ],
   "source": [
    "monthly_sentiment_nltk = pd.read_csv('data/usa_china_extended_monthly_sentiment_nltk.csv')\n",
    "#monthly_sentiment_nltk['Month'] = pd.to_datetime(monthly_sentiment_nltk['Month']).dt.to_period('M')\n",
    "\n",
    "monthly_sentiment_textblob = pd.read_csv('data/usa_china_extended_monthly_sentiment_textblob.csv')\n",
    "#monthly_sentiment_textblob['Month'] = pd.to_datetime(monthly_sentiment_textblob['Month']).dt.to_period('M')\n",
    "print(type(monthly_sentiment_textblob['Month'][0]))\n",
    "monthly_sentiment_textblob.head()"
   ]
  },
  {
   "cell_type": "code",
   "execution_count": 30,
   "id": "a0b5b376-25ec-4da3-890b-54cf3ca15a0a",
   "metadata": {},
   "outputs": [
    {
     "name": "stdout",
     "output_type": "stream",
     "text": [
      "<class 'str'>\n"
     ]
    },
    {
     "data": {
      "text/html": [
       "<div>\n",
       "<style scoped>\n",
       "    .dataframe tbody tr th:only-of-type {\n",
       "        vertical-align: middle;\n",
       "    }\n",
       "\n",
       "    .dataframe tbody tr th {\n",
       "        vertical-align: top;\n",
       "    }\n",
       "\n",
       "    .dataframe thead th {\n",
       "        text-align: right;\n",
       "    }\n",
       "</style>\n",
       "<table border=\"1\" class=\"dataframe\">\n",
       "  <thead>\n",
       "    <tr style=\"text-align: right;\">\n",
       "      <th></th>\n",
       "      <th>DATE</th>\n",
       "      <th>EXCHUS</th>\n",
       "      <th>Month</th>\n",
       "    </tr>\n",
       "  </thead>\n",
       "  <tbody>\n",
       "    <tr>\n",
       "      <th>0</th>\n",
       "      <td>2021-01-01</td>\n",
       "      <td>6.4672</td>\n",
       "      <td>2021-01</td>\n",
       "    </tr>\n",
       "    <tr>\n",
       "      <th>1</th>\n",
       "      <td>2021-02-01</td>\n",
       "      <td>6.4601</td>\n",
       "      <td>2021-02</td>\n",
       "    </tr>\n",
       "    <tr>\n",
       "      <th>2</th>\n",
       "      <td>2021-03-01</td>\n",
       "      <td>6.5109</td>\n",
       "      <td>2021-03</td>\n",
       "    </tr>\n",
       "    <tr>\n",
       "      <th>3</th>\n",
       "      <td>2021-04-01</td>\n",
       "      <td>6.5186</td>\n",
       "      <td>2021-04</td>\n",
       "    </tr>\n",
       "    <tr>\n",
       "      <th>4</th>\n",
       "      <td>2021-05-01</td>\n",
       "      <td>6.4321</td>\n",
       "      <td>2021-05</td>\n",
       "    </tr>\n",
       "  </tbody>\n",
       "</table>\n",
       "</div>"
      ],
      "text/plain": [
       "         DATE  EXCHUS    Month\n",
       "0  2021-01-01  6.4672  2021-01\n",
       "1  2021-02-01  6.4601  2021-02\n",
       "2  2021-03-01  6.5109  2021-03\n",
       "3  2021-04-01  6.5186  2021-04\n",
       "4  2021-05-01  6.4321  2021-05"
      ]
     },
     "execution_count": 30,
     "metadata": {},
     "output_type": "execute_result"
    }
   ],
   "source": [
    "usd_cny_exchange_rate = pd.read_csv('data/usd_cny_monthly_exchange_rate_2021.csv')\n",
    "#usd_cny_exchange_rate['Month'] = pd.to_datetime(usd_cny_exchange_rate['Month']).dt.to_period('M')\n",
    "print(type(usd_cny_exchange_rate['Month'][0]))\n",
    "usd_cny_exchange_rate.head()"
   ]
  },
  {
   "cell_type": "code",
   "execution_count": 31,
   "id": "031a0661-125f-4a2f-9ce9-720741ca4625",
   "metadata": {},
   "outputs": [
    {
     "data": {
      "text/html": [
       "<div>\n",
       "<style scoped>\n",
       "    .dataframe tbody tr th:only-of-type {\n",
       "        vertical-align: middle;\n",
       "    }\n",
       "\n",
       "    .dataframe tbody tr th {\n",
       "        vertical-align: top;\n",
       "    }\n",
       "\n",
       "    .dataframe thead th {\n",
       "        text-align: right;\n",
       "    }\n",
       "</style>\n",
       "<table border=\"1\" class=\"dataframe\">\n",
       "  <thead>\n",
       "    <tr style=\"text-align: right;\">\n",
       "      <th></th>\n",
       "      <th>Month</th>\n",
       "      <th>Relation</th>\n",
       "      <th>Sentiment</th>\n",
       "      <th>EXCHUS</th>\n",
       "    </tr>\n",
       "  </thead>\n",
       "  <tbody>\n",
       "    <tr>\n",
       "      <th>0</th>\n",
       "      <td>2021-01</td>\n",
       "      <td>USA-China</td>\n",
       "      <td>0.023501</td>\n",
       "      <td>6.4672</td>\n",
       "    </tr>\n",
       "    <tr>\n",
       "      <th>1</th>\n",
       "      <td>2021-02</td>\n",
       "      <td>USA-China</td>\n",
       "      <td>0.020157</td>\n",
       "      <td>6.4601</td>\n",
       "    </tr>\n",
       "    <tr>\n",
       "      <th>2</th>\n",
       "      <td>2021-03</td>\n",
       "      <td>USA-China</td>\n",
       "      <td>0.010724</td>\n",
       "      <td>6.5109</td>\n",
       "    </tr>\n",
       "    <tr>\n",
       "      <th>3</th>\n",
       "      <td>2021-04</td>\n",
       "      <td>USA-China</td>\n",
       "      <td>0.014211</td>\n",
       "      <td>6.5186</td>\n",
       "    </tr>\n",
       "    <tr>\n",
       "      <th>4</th>\n",
       "      <td>2021-05</td>\n",
       "      <td>USA-China</td>\n",
       "      <td>0.009114</td>\n",
       "      <td>6.4321</td>\n",
       "    </tr>\n",
       "  </tbody>\n",
       "</table>\n",
       "</div>"
      ],
      "text/plain": [
       "     Month   Relation  Sentiment  EXCHUS\n",
       "0  2021-01  USA-China   0.023501  6.4672\n",
       "1  2021-02  USA-China   0.020157  6.4601\n",
       "2  2021-03  USA-China   0.010724  6.5109\n",
       "3  2021-04  USA-China   0.014211  6.5186\n",
       "4  2021-05  USA-China   0.009114  6.4321"
      ]
     },
     "execution_count": 31,
     "metadata": {},
     "output_type": "execute_result"
    }
   ],
   "source": [
    "#combine dataframes, drop date keep month\n",
    "combined_df_textblob = pd.merge(monthly_sentiment_textblob, usd_cny_exchange_rate, on = 'Month', how = 'inner')\n",
    "combined_df_textblob = combined_df_textblob.drop(columns=['DATE'])\n",
    "#combined_df_textblob.to_csv(\"combined_df_textblob.csv\", index = False)\n",
    "combined_df_textblob.head()"
   ]
  },
  {
   "cell_type": "code",
   "execution_count": 32,
   "id": "cf66e819-6c04-42a2-9cb3-973e9b39db74",
   "metadata": {},
   "outputs": [
    {
     "name": "stdout",
     "output_type": "stream",
     "text": [
      "52\n",
      "52\n",
      "Test MSE: 0.00013004019210459397\n",
      "Test R-squared: -0.045083615802483656\n",
      "Model coefficient: -0.06998869326199071\n",
      "Model intercept: 0.0023479349016223934\n"
     ]
    }
   ],
   "source": [
    "#create linear regression\n",
    "df = pd.read_csv('data/combined_df_textblob.csv', index_col = False)\n",
    "df = df.dropna()\n",
    "\n",
    "y = df['Log_EXCHUS_Lag']\n",
    "x = df[['Sentiment_Change']]\n",
    "\n",
    "print(len(y))\n",
    "print(len(x))\n",
    "\n",
    "x_train, x_test, y_train, y_test = train_test_split(x, y, test_size = 0.2, random_state = 42)\n",
    "\n",
    "model = LinearRegression()\n",
    "model.fit(x_train, y_train)\n",
    "\n",
    "y_pred = model.predict(x_test)\n",
    "\n",
    "mse = mean_squared_error(y_test, y_pred)\n",
    "r2 = r2_score(y_test, y_pred)\n",
    "\n",
    "print(\"Test MSE:\", mse)\n",
    "print(\"Test R-squared:\", r2)\n",
    "print(\"Model coefficient:\", model.coef_[0])\n",
    "print(\"Model intercept:\", model.intercept_)"
   ]
  },
  {
   "cell_type": "code",
   "execution_count": 41,
   "id": "5e4b2dfb-5d61-4df9-b60b-746e696dea20",
   "metadata": {},
   "outputs": [
    {
     "name": "stdout",
     "output_type": "stream",
     "text": [
      "                            OLS Regression Results                            \n",
      "==============================================================================\n",
      "Dep. Variable:         Log_EXCHUS_Lag   R-squared:                       0.001\n",
      "Model:                            OLS   Adj. R-squared:                 -0.019\n",
      "Method:                 Least Squares   F-statistic:                   0.03007\n",
      "Date:                Fri, 01 Aug 2025   Prob (F-statistic):              0.863\n",
      "Time:                        12:06:56   Log-Likelihood:                 155.68\n",
      "No. Observations:                  52   AIC:                            -307.4\n",
      "Df Residuals:                      50   BIC:                            -303.5\n",
      "Df Model:                           1                                         \n",
      "Covariance Type:            nonrobust                                         \n",
      "====================================================================================\n",
      "                       coef    std err          t      P>|t|      [0.025      0.975]\n",
      "------------------------------------------------------------------------------------\n",
      "const                0.0020      0.002      1.181      0.243      -0.001       0.005\n",
      "Sentiment_Change    -0.0285      0.164     -0.173      0.863      -0.359       0.302\n",
      "==============================================================================\n",
      "Omnibus:                        7.734   Durbin-Watson:                   1.183\n",
      "Prob(Omnibus):                  0.021   Jarque-Bera (JB):                9.806\n",
      "Skew:                           0.462   Prob(JB):                      0.00743\n",
      "Kurtosis:                       4.917   Cond. No.                         96.0\n",
      "==============================================================================\n",
      "\n",
      "Notes:\n",
      "[1] Standard Errors assume that the covariance matrix of the errors is correctly specified.\n"
     ]
    }
   ],
   "source": [
    "x = df[['Sentiment_Change']]\n",
    "\n",
    "# Add constant (intercept) term\n",
    "x = sm.add_constant(x)\n",
    "\n",
    "# Dependent variable\n",
    "y = df['Log_EXCHUS_Lag']\n",
    "\n",
    "# Fit the OLS model\n",
    "model = sm.OLS(y, x).fit()\n",
    "\n",
    "# Print the summary\n",
    "print(model.summary())\n"
   ]
  }
 ],
 "metadata": {
  "kernelspec": {
   "display_name": "Python [conda env:base] *",
   "language": "python",
   "name": "conda-base-py"
  },
  "language_info": {
   "codemirror_mode": {
    "name": "ipython",
    "version": 3
   },
   "file_extension": ".py",
   "mimetype": "text/x-python",
   "name": "python",
   "nbconvert_exporter": "python",
   "pygments_lexer": "ipython3",
   "version": "3.12.7"
  }
 },
 "nbformat": 4,
 "nbformat_minor": 5
}
